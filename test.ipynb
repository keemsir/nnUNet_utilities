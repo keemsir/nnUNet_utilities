{
 "cells": [
  {
   "cell_type": "code",
   "execution_count": 10,
   "metadata": {},
   "outputs": [],
   "source": [
    "from nn_utils import dcm2nifti\n",
    "from nn_utils import create_json\n",
    "# dcm2nifti()\n",
    "# mk_json()"
   ]
  }
 ],
 "metadata": {
  "kernelspec": {
   "display_name": "Python 3.6.13 ('nnUNet')",
   "language": "python",
   "name": "python3"
  },
  "language_info": {
   "codemirror_mode": {
    "name": "ipython",
    "version": 3
   },
   "file_extension": ".py",
   "mimetype": "text/x-python",
   "name": "python",
   "nbconvert_exporter": "python",
   "pygments_lexer": "ipython3",
   "version": "3.6.13"
  },
  "orig_nbformat": 4,
  "vscode": {
   "interpreter": {
    "hash": "493bf11979a2bcd0e153cc0b74cc39be5f6d34d16da0193bcace40f193fb5a38"
   }
  }
 },
 "nbformat": 4,
 "nbformat_minor": 2
}
